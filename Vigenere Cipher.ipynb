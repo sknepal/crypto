{
 "cells": [
  {
   "cell_type": "code",
   "execution_count": 1,
   "metadata": {
    "collapsed": false
   },
   "outputs": [
    {
     "name": "stdout",
     "output_type": "stream",
     "text": [
      "DOGCHASETHECAT\n"
     ]
    }
   ],
   "source": [
    "#plaintext = \"DOGCHASETHECAT\"\n",
    "text = \"OWUPSIGREPSPLB\"\n",
    "alphabets = \"ABCDEFGHIJKLMNOPQRSTUVWXYZ\".upper()\n",
    "key = \"LION\"\n",
    "do = \"decryption\"\n",
    "\n",
    "index = 0\n",
    "encoded = []\n",
    "for symbol in text:\n",
    "    num = alphabets.find(symbol.upper())\n",
    "    if num != -1:\n",
    "        if do == 'encryption':\n",
    "            num += alphabets.find(key[index])\n",
    "        elif do == 'decryption':\n",
    "            num -= alphabets.find(key[index])\n",
    "            \n",
    "        num %= len(alphabets)\n",
    "        encoded.append(alphabets[num])\n",
    "        index += 1\n",
    "        if index == len(key):\n",
    "            index = 0\n",
    "    else:\n",
    "        encoded.append(symbol)\n",
    "\n",
    "print ''.join(encoded)"
   ]
  },
  {
   "cell_type": "code",
   "execution_count": 21,
   "metadata": {
    "collapsed": false
   },
   "outputs": [],
   "source": [
    "#OWUPSIGREPSPLB"
   ]
  },
  {
   "cell_type": "code",
   "execution_count": null,
   "metadata": {
    "collapsed": false
   },
   "outputs": [],
   "source": []
  },
  {
   "cell_type": "code",
   "execution_count": null,
   "metadata": {
    "collapsed": false
   },
   "outputs": [],
   "source": []
  },
  {
   "cell_type": "code",
   "execution_count": null,
   "metadata": {
    "collapsed": true
   },
   "outputs": [],
   "source": []
  }
 ],
 "metadata": {
  "anaconda-cloud": {},
  "kernelspec": {
   "display_name": "Python [Root]",
   "language": "python",
   "name": "Python [Root]"
  },
  "language_info": {
   "codemirror_mode": {
    "name": "ipython",
    "version": 2
   },
   "file_extension": ".py",
   "mimetype": "text/x-python",
   "name": "python",
   "nbconvert_exporter": "python",
   "pygments_lexer": "ipython2",
   "version": "2.7.11"
  }
 },
 "nbformat": 4,
 "nbformat_minor": 0
}
