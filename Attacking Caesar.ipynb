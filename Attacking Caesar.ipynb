{
 "cells": [
  {
   "cell_type": "code",
   "execution_count": 1,
   "metadata": {
    "collapsed": false
   },
   "outputs": [
    {
     "name": "stdout",
     "output_type": "stream",
     "text": [
      "Trying with key:  6  .... ebiil tloia\n",
      "Trying with key:  10  .... axeeh phkew\n",
      "Trying with key:  3  .... hello world\n",
      "\n",
      "Decoded string:  hello world\n"
     ]
    }
   ],
   "source": [
    "from nltk.corpus import words\n",
    "\n",
    "unique = []\n",
    "frequency = []\n",
    "psi = []\n",
    "key = 0\n",
    "value = 0.0\n",
    "exit = True\n",
    "\n",
    "text = \"KHOOR ZRUOG\".lower()\n",
    "alphabets = \"abcdefghijklmnopqrstuvwxyz\"\n",
    "english_frequency_prob = [0.080, 0.015, 0.030, 0.040, 0.130, 0.020, 0.015, 0.060, 0.065, 0.005, 0.005, 0.035, 0.030,\n",
    "                    0.070, 0.080, 0.020, 0.002, 0.065, 0.060, 0.090, 0.030, 0.010, 0.015, 0.005, 0.020, 0.002]\n",
    "\n",
    "for char in text: #put unique characters in a separate list\n",
    "    if (char not in unique) and (char.isalpha()):\n",
    "        unique.append(char)\n",
    "   \n",
    "only_alphabets = [char for char in text if char.isalpha()]  #because symbols are not handled\n",
    "\n",
    "for unique_char in unique: #frequency of the character in the given text\n",
    "     frequency.append(text.count(unique_char) / (float)(len(only_alphabets)))\n",
    "\n",
    "for i in range(0,26): #calculate psi\n",
    "    for unique_char in unique:\n",
    "         value = value + frequency[unique.index(unique_char)] * english_frequency_prob[alphabets.index(unique_char) - i]\n",
    "    psi.append(value)  \n",
    "    value = 0.0\n",
    "    \n",
    "sorted_psi = psi[:] # make a copy of psi and sort it\n",
    "sorted_psi.sort(reverse=True)\n",
    "\n",
    "\n",
    "decoded_string = \"\"\n",
    "for i in range(0, 26):\n",
    "    key = psi.index(sorted_psi[i])\n",
    "    decoded_string = \"\"\n",
    "    for char in text:\n",
    "        if (char != ' '):\n",
    "            decoded_string = decoded_string + alphabets[alphabets.index(char) - key]\n",
    "        else:\n",
    "            decoded_string = decoded_string + \" \"\n",
    "            \n",
    "    print \"Trying with key: \", key, \" ....\", decoded_string\n",
    "    \n",
    "    for word in decoded_string.split():\n",
    "        if word not in words.words(): #check to see if the word is in ntlk's dictionary\n",
    "            exit = False\n",
    "        else:\n",
    "            exit = True\n",
    "    if exit:\n",
    "        break\n",
    "        \n",
    "print \"\\n\", \"Decoded string: \", decoded_string"
   ]
  },
  {
   "cell_type": "code",
   "execution_count": null,
   "metadata": {
    "collapsed": false
   },
   "outputs": [],
   "source": []
  },
  {
   "cell_type": "code",
   "execution_count": null,
   "metadata": {
    "collapsed": false
   },
   "outputs": [],
   "source": []
  },
  {
   "cell_type": "code",
   "execution_count": null,
   "metadata": {
    "collapsed": false
   },
   "outputs": [],
   "source": []
  },
  {
   "cell_type": "code",
   "execution_count": null,
   "metadata": {
    "collapsed": true
   },
   "outputs": [],
   "source": []
  }
 ],
 "metadata": {
  "anaconda-cloud": {},
  "kernelspec": {
   "display_name": "Python [Root]",
   "language": "python",
   "name": "Python [Root]"
  },
  "language_info": {
   "codemirror_mode": {
    "name": "ipython",
    "version": 2
   },
   "file_extension": ".py",
   "mimetype": "text/x-python",
   "name": "python",
   "nbconvert_exporter": "python",
   "pygments_lexer": "ipython2",
   "version": "2.7.11"
  }
 },
 "nbformat": 4,
 "nbformat_minor": 0
}
