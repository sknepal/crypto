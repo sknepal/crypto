{
 "cells": [
  {
   "cell_type": "code",
   "execution_count": 16,
   "metadata": {
    "collapsed": true
   },
   "outputs": [],
   "source": []
  },
  {
   "cell_type": "code",
   "execution_count": 1,
   "metadata": {
    "collapsed": false
   },
   "outputs": [
    {
     "name": "stdout",
     "output_type": "stream",
     "text": [
      "phhwphdiwhuwkhwrjdsduwb\n",
      "meetmeafterthetogaparty\n"
     ]
    }
   ],
   "source": [
    "alphabets = ['a','b', 'c', 'd', 'e', 'f', 'g', 'h', 'i', 'j', 'k', 'l', 'm', 'n', 'o', 'p',\n",
    "            'q', 'r', 's', 't', 'u', 'v', 'w', 'x', 'y', 'z']\n",
    "text = \"Meet me after the toga party\"\n",
    "encoded_text = \"\"\n",
    "\n",
    "for text in text.lower().split():\n",
    "    for char in text:\n",
    "        encoded_text = encoded_text + alphabets[(alphabets.index(char) + 3) % 26] \n",
    "print encoded_text\n",
    "\n",
    "decoded_text = \"\"\n",
    "for text in encoded_text:\n",
    "    for char in text:\n",
    "        decoded_text = decoded_text + alphabets[(alphabets.index(char)-3) % 26]\n",
    "print decoded_text"
   ]
  },
  {
   "cell_type": "code",
   "execution_count": null,
   "metadata": {
    "collapsed": true
   },
   "outputs": [],
   "source": []
  }
 ],
 "metadata": {
  "anaconda-cloud": {},
  "kernelspec": {
   "display_name": "Python [Root]",
   "language": "python",
   "name": "Python [Root]"
  },
  "language_info": {
   "codemirror_mode": {
    "name": "ipython",
    "version": 2
   },
   "file_extension": ".py",
   "mimetype": "text/x-python",
   "name": "python",
   "nbconvert_exporter": "python",
   "pygments_lexer": "ipython2",
   "version": "2.7.11"
  }
 },
 "nbformat": 4,
 "nbformat_minor": 0
}
