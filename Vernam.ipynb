{
 "cells": [
  {
   "cell_type": "code",
   "execution_count": 51,
   "metadata": {
    "collapsed": false
   },
   "outputs": [
    {
     "name": "stdout",
     "output_type": "stream",
     "text": [
      "htmcpu\n"
     ]
    }
   ],
   "source": [
    "alphabets = \"abcdefghijklmnopqrstuvwxyz\"\n",
    "initial = \"hellod\"\n",
    "key = \"axhjb\"\n",
    "\n",
    "def filler_check():\n",
    "    global initial\n",
    "    global key\n",
    "    \n",
    "    if (len(initial)>len(key)):\n",
    "        key+='x'\n",
    "        \n",
    "    elif (len(initial)<len(key)):\n",
    "        initial+= 'x'\n",
    "    \n",
    "def vernam():\n",
    "    final = \"\"\n",
    "    length = max([len(plain), len(key)])\n",
    "    for i in range(0, length):\n",
    "        final+=alphabets[alphabets.index(initial[i]) ^ alphabets.index(key[i])]\n",
    "    return final\n",
    "\n",
    "\n",
    "filler_check()\n",
    "print vernam()"
   ]
  },
  {
   "cell_type": "code",
   "execution_count": null,
   "metadata": {
    "collapsed": true
   },
   "outputs": [],
   "source": []
  },
  {
   "cell_type": "code",
   "execution_count": null,
   "metadata": {
    "collapsed": true
   },
   "outputs": [],
   "source": []
  }
 ],
 "metadata": {
  "anaconda-cloud": {},
  "kernelspec": {
   "display_name": "Python [Root]",
   "language": "python",
   "name": "Python [Root]"
  },
  "language_info": {
   "codemirror_mode": {
    "name": "ipython",
    "version": 2
   },
   "file_extension": ".py",
   "mimetype": "text/x-python",
   "name": "python",
   "nbconvert_exporter": "python",
   "pygments_lexer": "ipython2",
   "version": "2.7.11"
  }
 },
 "nbformat": 4,
 "nbformat_minor": 0
}
