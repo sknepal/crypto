{
 "cells": [
  {
   "cell_type": "code",
   "execution_count": 378,
   "metadata": {
    "collapsed": false
   },
   "outputs": [
    {
     "name": "stdout",
     "output_type": "stream",
     "text": [
      "inmketxcrsperoepbsgi\n"
     ]
    }
   ],
   "source": [
    "def make_unique(key, unique_key_letters):\n",
    "    for char in key: #put unique characters in a separate list\n",
    "        if (char not in unique_key_letters) and (char.isalpha()):\n",
    "            unique_key_letters.append(char)\n",
    "\n",
    "def join_alphabet_key(alphabet, unique_key_letters):\n",
    "    # remove from alphabet the characters that are in the key\n",
    "    # and insert the key to the front of the alphabet list\n",
    "    i = 0\n",
    "    for char in unique_key_letters:\n",
    "        alphabet.remove(char)\n",
    "        alphabet.insert(i, char)\n",
    "        i += 1\n",
    "\n",
    "def fill_the_matrix(matrix, alphabet):\n",
    "    #convert the alphabet list to a 5*5 matrix \n",
    "    count = 0\n",
    "    for i in range(0,5):\n",
    "             for j in range(0,5):\n",
    "                 matrix[i][j] = alphabet[i+j+count]     \n",
    "             count += 4\n",
    "            \n",
    "        \n",
    "#fix the duplicate pairs of letters in the plain textt\n",
    "def put_filler(slice):\n",
    "    old = \"\"\n",
    "    for new in slice:\n",
    "        if old == new:\n",
    "            if fix_dupe.temp == \"\":\n",
    "                new = 'x'\n",
    "                fix_dupe.temp = old\n",
    "            else:\n",
    "                old = fix_dupe.temp\n",
    "                fix_dupe.temp = new\n",
    "            \n",
    "        elif (len(slice)<2):\n",
    "            old = fix_dupe.temp\n",
    "            \n",
    "        string = old\n",
    "        old = new\n",
    "    string += new\n",
    "    return string\n",
    "\n",
    "def fix_dupe(plain_text, pair_plain_text):\n",
    "# split the plaintext to two letters at a time and send it to the put_filler method\n",
    "# that checks and fixes the duplicate letters\n",
    "    step = 2\n",
    "    for i in range(0, len(plain_text), 2):\n",
    "        slice = plain_text[i:step]\n",
    "        pair_plain_text.append(put_filler(slice))\n",
    "        step += 2\n",
    "\n",
    "\n",
    "def encrypt(pair_plain_text, matrix):\n",
    "    encrypted = \"\"\n",
    "    row1 = \"\"\n",
    "    row2 = \"\"\n",
    "    column1 = \"\"\n",
    "    column2 = \"\"\n",
    "    for pair in pair_plain_text:\n",
    "        for i in range(0, 5):\n",
    "            for j in range(0, 5):\n",
    "                \n",
    "                    if matrix[i][j] == pair[0]:\n",
    "                        row1 = i\n",
    "                        column1 = j\n",
    "                    if matrix[i][j] == pair[1]:\n",
    "                        row2 = i\n",
    "                        column2 = j\n",
    "\n",
    "                    if row1==row2 and row1 != \"\":\n",
    "                        encrypted += matrix[row1][(column1+1)%5]\n",
    "                        encrypted += matrix[row2][(column2+1)%5]\n",
    "                        row1 = \"\"\n",
    "                        row2 = \"\"\n",
    "                        column1 = \"\"\n",
    "                        column2 = \"\"\n",
    "\n",
    "                    if column1==column2 and column1 != \"\":\n",
    "                        encrypted += matrix[(row1+1)%5][column1]\n",
    "                        encrypted += matrix[(row2+1)%5][column2]\n",
    "                        row1 = \"\"\n",
    "                        row2 = \"\"\n",
    "                        column1 = \"\"\n",
    "                        column2 = \"\"\n",
    "\n",
    "                    elif row1!=\"\" and row2!=\"\":\n",
    "                        encrypted += matrix[row1][column2]\n",
    "                        encrypted += matrix[row2][column1]\n",
    "                        row1 = \"\"\n",
    "                        row2 = \"\"\n",
    "                        column1 = \"\"\n",
    "                        column2 = \"\"\n",
    "        row1 = \"\"\n",
    "        row2 = \"\"\n",
    "        column1 = \"\"\n",
    "        column2 = \"\"\n",
    "\n",
    "    return encrypted\n",
    "    \n",
    "    \n",
    "def main():\n",
    "    matrix = [[0 for x in range(5)] for x in range(5)] \n",
    "    pair_plain_text = []\n",
    "    unique_key_letters = []\n",
    "    alphabet = [\"a\", \"b\", \"c\", \"d\", \"e\", \"f\", \"g\", \"h\", \"i\", \"k\", \"l\", \"m\", \"n\", \"o\",\n",
    "               \"p\", \"q\", \"r\", \"s\", \"t\", \"u\", \"v\", \"w\", \"x\", \"y\", \"z\"]\n",
    "\n",
    "    plain_text = \"holidaybeforeprogram\"\n",
    "    key = \"deerfest\"\n",
    "    \n",
    "    make_unique(key, unique_key_letters)\n",
    "    join_alphabet_key(alphabet, unique_key_letters)\n",
    "    fill_the_matrix(matrix, alphabet)\n",
    "    fix_dupe(plain_text, pair_plain_text)\n",
    "    encrypted_text = encrypt(pair_plain_text, matrix)\n",
    "    \n",
    "    print encrypted_text\n",
    "\n",
    "fix_dupe.temp = \"\"\n",
    "main()"
   ]
  },
  {
   "cell_type": "code",
   "execution_count": null,
   "metadata": {
    "collapsed": false
   },
   "outputs": [],
   "source": []
  },
  {
   "cell_type": "code",
   "execution_count": null,
   "metadata": {
    "collapsed": false
   },
   "outputs": [],
   "source": []
  },
  {
   "cell_type": "code",
   "execution_count": null,
   "metadata": {
    "collapsed": false
   },
   "outputs": [],
   "source": []
  },
  {
   "cell_type": "code",
   "execution_count": null,
   "metadata": {
    "collapsed": false
   },
   "outputs": [],
   "source": []
  },
  {
   "cell_type": "code",
   "execution_count": null,
   "metadata": {
    "collapsed": true
   },
   "outputs": [],
   "source": []
  }
 ],
 "metadata": {
  "anaconda-cloud": {},
  "kernelspec": {
   "display_name": "Python [Root]",
   "language": "python",
   "name": "Python [Root]"
  },
  "language_info": {
   "codemirror_mode": {
    "name": "ipython",
    "version": 2
   },
   "file_extension": ".py",
   "mimetype": "text/x-python",
   "name": "python",
   "nbconvert_exporter": "python",
   "pygments_lexer": "ipython2",
   "version": "2.7.11"
  }
 },
 "nbformat": 4,
 "nbformat_minor": 0
}
